{
 "cells": [
  {
   "cell_type": "markdown",
   "metadata": {},
   "source": [
    "# Loading & Exploring Geo-Data with Geopandas\n",
    "\n",
    "Work out how to load the London LSOA shapefile (`LDN-LSOAs.shp`) into a geopandas data frame object called `lsoa` by looking at the geopandas documentation: http://geopandas.org/user.html#geodataframe. I'll give you a few clues to get your started:"
   ]
  },
  {
   "cell_type": "code",
   "execution_count": null,
   "metadata": {
    "collapsed": true
   },
   "outputs": [],
   "source": [
    "import os\n",
    "import fiona\n",
    "import shapely \n",
    "import pandas as pd\n",
    "import geopandas as gpd\n",
    "import matplotlib.pyplot as plt\n",
    "import pysal as ps\n",
    "from pysal.contrib.viz import mapping as maps\n",
    "\n",
    "lsoa = gpd.GeoDataFrame.???\n",
    "\n",
    "print(\"Class type: \" + str(type(lsoa)))"
   ]
  },
  {
   "cell_type": "markdown",
   "metadata": {},
   "source": [
    "Make a note of the other methods in the GeoDataFrame section, you might need one or two of them later.\n",
    "\n",
    "## A (Brief) Discourse on Family & Inheritance\n",
    "\n",
    "Geopandas objects are deliberately designed to resemble pandas objects. There are two reasons for this: \n",
    "\n",
    "1. It makes it easier to learn so this was a deliberate choice.\n",
    "2. Geopandas _inherits_ functionality from Pandas. \n",
    "\n",
    "This concept, inheritance, is something we've held off from mentioning for a while, but it's definitely worth understanding if you are serious about learning to code. In effect, geopandas imports pandas, and then _extends_ it in key ways to work with geo-data... pandas doesn't know how to read shapefiles, but geopandas does. Same for JSON and GeoJSON.\n",
    "\n",
    "Here's a simple way to think about inheritance: think of the 'tree of life' you've seen charting the evolution of organisms in terms of complexity. At the root is the single-celled animal, and at the other end are humans, whales, wildebeest, etc. We all _inherit_ some basic functionality from that simple cell. In between us and that primitive animal, however, are a series of branches: different bits of the tree evolved different functionality. Some of us have bones. Some cartilege. Some have exoskeletons. Some have spines. And so on. When you get to the primates we all share certain 'features', but we are _still_ more similar to gorillas than we are to macaques. Gorillas and humans _extend_ the primitive 'primate functionality' with some bonus features (big brains, strength, etc.) that are useful.\n",
    "\n",
    "Inheritance in code works in a similar way: you can think of *all* Python classes (lists, pandas, plots, etc.) as inheriting from a single primitive 'object' class that basically does very little. As you move down through the inheritance tree you find more and more advanced objects with increasingly advanced features: Bokeh and Seaborn extend matplotlib, but they still build on top of it and can, if necessary, give you access to the underlying matplotlib features. In the same way, geopandas extends pandas, but if you need to use a geopandas object _as if_ it's a pandas object it will work! So everything you learned last term can still be used in geopandas. Kind of cool, right?\n",
    "\n",
    "Let's see this in action:"
   ]
  },
  {
   "cell_type": "code",
   "execution_count": null,
   "metadata": {
    "collapsed": true
   },
   "outputs": [],
   "source": [
    "print('Class type: ' + str(type((pd.DataFrame) lsoa)))\n",
    "print(lsoa.head(3))\n",
    "print(\" \")\n",
    "\n",
    "print('LSOA11CD type: ' + str(type(lsoa.LSOA11CD)))\n",
    "print(lsoa.LSOA11CD.describe())\n",
    "print(\" \")\n",
    "\n",
    "print('Geometry type: ' + str(type(lsoa.geometry)))\n",
    "\n",
    "# The next line is very slow, don't run it:\n",
    "# print(lsoa.geometry.describe())\n",
    "\n",
    "lsoa.geometry.head(2)\n",
    "print(\" \")\n",
    "\n",
    "lsoa.geometry.area.head(2)\n",
    "print(\" \")\n",
    "\n",
    "print('CRS: ' + str(lsoa.crs))\n",
    "\n",
    "print('Datum: ' + lsoa.crs['datum'])"
   ]
  },
  {
   "cell_type": "markdown",
   "metadata": {},
   "source": [
    "### Some questions for you:\n",
    "\n",
    "1.\tWhat type of data structure is the CRS attribute of the geopandas data frame?\n",
    "2.\tHow would you confirm this?\n",
    "3.\tWhat is the datum used for this shapefile?\n",
    "4.\tWhy is this datum used?\n",
    "5.\tWhat is the data structure of the geometry column (broadly)?\n",
    "6.\tAre there any differences between what a similar pandas data frame would give you if you ran any of the non-geographic commands?\n",
    "\n",
    "Create a plot in geopandas – let’s take the most basic approach first (you will need to be patient):"
   ]
  },
  {
   "cell_type": "code",
   "execution_count": null,
   "metadata": {
    "collapsed": true
   },
   "outputs": [],
   "source": [
    "lsoa.plot()"
   ]
  },
  {
   "cell_type": "markdown",
   "metadata": {},
   "source": [
    "Let’s try to improve the output a bit: take a look at the code in the worksheet and see if you can figure out how to make the figure **title** appear at the top-left of the figure at in a 18pt font size instead of the default position (which is centred and in 12pt). You need to think both about alignment and the actual position of the title in x/y space. If you need a little `help()`, why not use the empty coding block below the plot?"
   ]
  },
  {
   "cell_type": "code",
   "execution_count": null,
   "metadata": {
    "collapsed": true
   },
   "outputs": [],
   "source": [
    "f, ax = plt.subplots(1, figsize=(10, 7))\n",
    "ax = lsoa.plot(axes=ax, alpha=0.5)\n",
    "ax.set_axis_off()\n",
    "lims = plt.axis('equal')\n",
    "f.suptitle('London LSOAs')\n",
    "plt.show()"
   ]
  },
  {
   "cell_type": "code",
   "execution_count": null,
   "metadata": {
    "collapsed": true
   },
   "outputs": [],
   "source": []
  },
  {
   "cell_type": "markdown",
   "metadata": {},
   "source": [
    "This random colour scheme is a little hard on the eyes, so let’s improve how things are rendered in the maps. What could you put in place of the '???'s of for the for loop in order to improve the look of the map?"
   ]
  },
  {
   "cell_type": "code",
   "execution_count": null,
   "metadata": {
    "collapsed": true
   },
   "outputs": [],
   "source": [
    "f, ax = plt.subplots(1, figsize=(10, 7))\n",
    "for p in lsoa['geometry']:\n",
    "    gpd.plotting.plot_multipolygon(ax, p, edgecolor='???', linewidth=0.1, \n",
    "                                   facecolor='white', alpha=???)\n",
    "ax.set_axis_off()\n",
    "lims = plt.axis('equal')\n",
    "f.suptitle('London LSOAs')\n",
    "plt.show()"
   ]
  },
  {
   "cell_type": "markdown",
   "metadata": {},
   "source": [
    "Note that we can also see how to save the output as a PDF; note that it’s the same code as we used with pandas!"
   ]
  },
  {
   "cell_type": "code",
   "execution_count": null,
   "metadata": {
    "collapsed": true
   },
   "outputs": [],
   "source": [
    "f.savefig(os.path.join('maps', 'map1' + \".pdf\"), format='pdf')\n",
    "plt.close(f)\n",
    "print(\"Done.\")"
   ]
  },
  {
   "cell_type": "markdown",
   "metadata": {},
   "source": [
    "# Linking Geo-Data on Keys\n",
    "\n",
    "Use the code that you (re)created last week to load the NS-SeC data into a pandas data frame called `df`."
   ]
  },
  {
   "cell_type": "code",
   "execution_count": null,
   "metadata": {
    "collapsed": true
   },
   "outputs": [],
   "source": []
  },
  {
   "cell_type": "markdown",
   "metadata": {},
   "source": [
    "Now have a look at the code below. Do you see that we are using the `pandas` merge function create a new data frame called `shapedf` from the combination of the pandas and geopandas data frames. That's only possible because geopandas extends pandas and so knows how to 'answer' the merge request."
   ]
  },
  {
   "cell_type": "code",
   "execution_count": null,
   "metadata": {
    "collapsed": true
   },
   "outputs": [],
   "source": [
    "shpdf = pd.merge(lsoa, df, left_on='LSOA11CD', right_on='GEO_CODE', how='left')"
   ]
  },
  {
   "cell_type": "markdown",
   "metadata": {},
   "source": [
    "### Some Questions\n",
    "\n",
    "1. Why do you think that we have `left_on` and `right_on` parameters? *[We’ll get into the ‘how’ option later in the term.]*\n",
    "2. How would you confirm that the merge had been successful?\n",
    "3. Why might we then want to run: `del df, lsoa`."
   ]
  },
  {
   "cell_type": "markdown",
   "metadata": {},
   "source": [
    "## Choropleth Mapping\n",
    "\n",
    "In this section we’ll spend more time investigating the options that can be passed to the `plot()` command of `geopandas`. In this case it turns out that the documentation is pretty poor (`help(gpd.GeoDataFrame.plot)`) and doesn’t really give you much help; however, by searching online using Google and StackOverflow you’ll be able to figure out the missing options where there are only ?'s now."
   ]
  },
  {
   "cell_type": "code",
   "execution_count": null,
   "metadata": {
    "collapsed": true
   },
   "outputs": [],
   "source": [
    "f, ax = plt.subplots(1, figsize=(10, 7))\n",
    "shpdf.plot(column=???, scheme='Quantiles', k=???, \n",
    "           colormap=???, edgecolor=???, linewidth=0.1, axes=ax, alpha=1.0)\n",
    "f.suptitle('London LSOAs')\n",
    "plt.tight_layout()\n",
    "plt.show()\n",
    "f.savefig(os.path.join('maps', \"map2\" + \".pdf\"), format='pdf')\n",
    "plt.close(f)\n",
    "print(\"Done.\")"
   ]
  },
  {
   "cell_type": "markdown",
   "metadata": {},
   "source": [
    "Let’s improve the plot a bit more by giving it a legend and by turning off the box & x/y-axis labels which don’t really add much to our visualisation.\n",
    "* You’ll need to figure out what to pass to the `legend=` parameter to get an automatic legend of some sort.\n",
    "* You will also have to replace the ??? on its own ith a command that turns the axis off; try `help(ax)` and then look for something about axes, or use Google to look for something like \"`turn axes off in matplotlib python`\"."
   ]
  },
  {
   "cell_type": "code",
   "execution_count": null,
   "metadata": {
    "collapsed": true
   },
   "outputs": [],
   "source": [
    "f, ax = plt.subplots(1, figsize=(10, 7))\n",
    "shpdf.plot(column='Group1', scheme='Quantiles', k=9, \n",
    "           colormap=???, edgecolor=???, linewidth=0.1, axes=ax, \n",
    "           alpha=1.0, legend=???)\n",
    "f.suptitle('London LSOAs')\n",
    "???\n",
    "f.savefig(os.path.join('maps', \"map3\" + \".pdf\"), format='pdf')\n",
    "plt.close(f)\n",
    "print(\"Done.\")"
   ]
  },
  {
   "cell_type": "markdown",
   "metadata": {},
   "source": [
    "## Writing GeoJSON\n",
    "\n",
    "To generate a GeoJSON file (like the one we used with Folium last week) from geopandas is quite straightforward... once you know the steps to take.\n",
    "\n",
    "The first thing we need to do is reproject the data frame into the correct CRS/Projection. If you look around online then you will find that there is one very commonly used projection for interactive web maps? That’s the number missing from the `???`."
   ]
  },
  {
   "cell_type": "code",
   "execution_count": null,
   "metadata": {
    "collapsed": true
   },
   "outputs": [],
   "source": [
    "gjson = lsoa.to_crs(epsg=???)"
   ]
  },
  {
   "cell_type": "markdown",
   "metadata": {},
   "source": [
    "After that, we need to write the new GeoJSON file to disk. Which object is writing out the json and marked by the `???`? Do you think it’s `gjson` or `lsoa`?"
   ]
  },
  {
   "cell_type": "code",
   "execution_count": null,
   "metadata": {
    "collapsed": true
   },
   "outputs": [],
   "source": [
    "with open(os.path.join(outdir,'lsoa.geojson'),'w') as f:\n",
    "    f.write(???.to_json())"
   ]
  },
  {
   "cell_type": "markdown",
   "metadata": {},
   "source": [
    "## Simplifying Geometries\n",
    "\n",
    "Although Folium can do this as well, and you get finer control over the ways in which shapes (lines and polygons) are simplified in a full GIS,  a quick-and-dirty version is provided by geopandas. "
   ]
  },
  {
   "cell_type": "code",
   "execution_count": null,
   "metadata": {
    "collapsed": true
   },
   "outputs": [],
   "source": [
    "test = lsoa.simplify(???)\n",
    "test.plot()"
   ]
  },
  {
   "cell_type": "markdown",
   "metadata": {},
   "source": [
    "Try picking a couple of different values to pass to `simplify` and see what you get. You can also try searching on \"`geopandas convex hull`\" for a more dramatic effect.\n",
    "\n",
    "And can you figure out what goes in place of the `???` below in order to get it convert all of the LSOAs to centroids?"
   ]
  },
  {
   "cell_type": "code",
   "execution_count": null,
   "metadata": {
    "collapsed": true
   },
   "outputs": [],
   "source": [
    "test.???.plot()\n",
    "del test"
   ]
  },
  {
   "cell_type": "markdown",
   "metadata": {},
   "source": [
    "## Computational approaches\n",
    "\n",
    "Please take a look at how the code below is written. This is a good 'reference implementation' to help you to understand how you can use code to output not just one map, but many."
   ]
  },
  {
   "cell_type": "code",
   "execution_count": null,
   "metadata": {
    "collapsed": true
   },
   "outputs": [],
   "source": [
    "# Create and save PDF maps for each.\n",
    "# Use a for loop and avoid any hard-coding of parameters that \n",
    "# relate to the data itself. In other words, by changing _one_ line\n",
    "# you could easily do the same for groups 3 & 9 if asked.\n",
    "# (The format of the plot [e.g. colour scheme, linewidth, etc.] _can_ \n",
    "# be hard-coded, but not its output file name and such).\n",
    "for g in ['Group1','Group8']:\n",
    "    # Convert the data types to float otherwise\n",
    "    # all operations happen as ints\n",
    "    shpdf[[g, 'Total']] = shpdf[[g, 'Total']].astype(float)\n",
    "    \n",
    "    # Calculate the LQ in one go\n",
    "    shpdf[g+'Pct'] = shpdf[g]/shpdf.Total\n",
    "    \n",
    "    f, ax = plt.subplots(1, figsize=(10, 7))\n",
    "    shpdf.plot(column=g+'Pct', scheme='Quantiles', k=9, colormap='YlOrRd', edgecolor='white', linewidth=0.1, axes=ax, alpha=1.0, legend=True)\n",
    "    f.suptitle('Proportional Concetration of ' + g)\n",
    "    ax.set_axis_off()\n",
    "    f.savefig(os.path.join(outdir, g + \"Pct\" + \".pdf\"), format='pdf')\n",
    "    plt.close(f)\n",
    "\n",
    "print(\"Done.\")"
   ]
  },
  {
   "cell_type": "markdown",
   "metadata": {},
   "source": [
    "Now let's do the same for the LQ:"
   ]
  },
  {
   "cell_type": "code",
   "execution_count": null,
   "metadata": {
    "collapsed": true
   },
   "outputs": [],
   "source": [
    "# Use a for loop and avoid any hard-coding of parameters that \n",
    "# relate to the data itself. In other words, by changing _one_ line\n",
    "# you could easily do the same for groups 3 & 9 if asked.\n",
    "# (The format of the plot [e.g. colour scheme, linewidth, etc.] _can_ \n",
    "# be hard-coded, but not its output file name and such).\n",
    "for g in ['Group1','Group8']:\n",
    "    # Convert the data types to float otherwise\n",
    "    # all operations happen as ints\n",
    "    shpdf[[g, 'Total']] = shpdf[[g, 'Total']].astype(float)\n",
    "    \n",
    "    # Calculate the LQ in one go (you saw this last term!)\n",
    "    shpdf[g+'LQ'] = ???\n",
    "    \n",
    "    f, ax = plt.subplots(1, figsize=(10, 7))\n",
    "    shpdf.plot(column=g+'LQ', scheme='Quantiles', k=9, colormap='YlOrRd', edgecolor='white', linewidth=0.1, axes=ax, alpha=1.0, legend=True)\n",
    "    f.suptitle('Location Quotient of ' + g)\n",
    "    ax.set_axis_off()\n",
    "    f.savefig(os.path.join(outdir, g + \"LQ\" + \".pdf\"), format='pdf')\n",
    "    plt.close(f)\n",
    "    del f, ax\n",
    "\n",
    "print(\"Done.\")"
   ]
  },
  {
   "cell_type": "markdown",
   "metadata": {},
   "source": [
    "### Bonus Questions \n",
    "\n",
    "If you have made it through the rest of the notebook, why not try to make more sense of the data as follows:\n",
    "\n",
    "1. Use Seaborne to produce a histogram of the LQ indexes. Is this distribution compatible with using the mean and SD as ways to 'cut' the data?\n",
    "3. Try log-transforming Group 1 and then use Seaborne to generate another histogram. Does this one conform better to the assumptions of the normal distribution?\n",
    "3. Using whichever of the two distributions more closely fits a normal distribution, calculate the Standard Deviation from the mean for that series. Did you manage to do this in one line of code?\n",
    "4. What do you think is an appropriate cut-off for specifying that a Group 1 LQ is _significantly_ greater than the mean? 1 SD? 1.95 SDs? ... _something else_?\n",
    "5. Using the chosen cut-off, create a new categorical variable called `High_Group1_LQ` whose value is `Yes` if the LQ (or logged LQ) for that area is significantly greater than the mean and `No` otherwise. Try creating a map using this column, but note that you'll have to add the parameter: `categorical=True`.\n",
    "6. See if you can figure out how to zoom the map to cover only Inner London by setting the y-limits and x-limits (you'll need to Google for these)."
   ]
  },
  {
   "cell_type": "markdown",
   "metadata": {},
   "source": [
    "# Geocoding New Data with QGIS\n",
    "\n",
    "Launch QGIS. You should running version 2.14.\n",
    "\n",
    "## Using a Background Map\n",
    "\n",
    "Before we get started, it's useful to add a generic background map... a lot like we did with folium where we specified the tile type:\n",
    "* With QGIS is in the foreground, select `Manage and Install Plugins` from the drop-down menu at the top of the GeoCUP window.\n",
    "* Search for `QuickMapServices` and click `Install`.\n",
    "* Close the Plugin Manager.\n",
    "\n",
    "You should now have a new option under the Web menu item at the top of the GeoCUP window:\n",
    "* Add ‘OpenStreetMap’ and you should see (possibly after a short wait) a view of the world in Pseudo Mercator appear.\n",
    "* Click on the projection label at the bottom of QGIS.\n",
    "* Make sure that you enable 'on the fly' CRS transformation.\n",
    "* Filter for the projection numbered 27700 and select the appropriate British National Grid coordinate reference system before clicking ‘Apply’.\n",
    "\n",
    "**Question**: How does the world map shown from the OpenLayers plug-in change?\n",
    "\n",
    "Now:\n",
    "* Try manually setting the centre of the map by typing 0,0 into the coordinates area at the bottom of the window. Does this view look a little more 'normal'? \n",
    "* Try using the zoom and pan functions to re-centre the map on Greater London (see below)."
   ]
  },
  {
   "cell_type": "markdown",
   "metadata": {},
   "source": [
    "## Creating and populating a new shapefile\n",
    "\n",
    "We’re now going to create a new shapefile and populate it with the locations of London’s biggest airports: Heathrow, Stansted, Luton, City, Southend, and Gatwick.\n",
    "\n",
    "To create a new shapefile we need to know that in QGIS' terminology it’s called a layer, so you're looking for `Layer > Create Layer > New Shapfile...`\n",
    " \n",
    "QGIS will then ask us to provide some information about our new shapefile layer:\n",
    "* We will specify the type as point (at this scale, airports are points).\n",
    "* We will specify a CRS using the EPSG format appropriate for the UK.\n",
    "* We have already created one new attribute called `name` by filling in the `New attribute` section and then clicking `Add to attributes list`.\n",
    "* This new attribute now exists in the ‘Attributes list’ section.\n",
    "\n",
    "In order to start editing the content in our new, empty shapefile we need to turn on the editing function – this is a lot easier than in ArcGIS since it’s as simple as pressing the 'pencil' button (with the layer that you want to edit selected) and seeing that a pencil now exists next to your layer name to indicate that you can make edits.\n",
    " \n",
    "If you let your mouse linger over the editing buttons then you’ll see that they enable you to ‘save your edits’, ‘add new points’, ‘modify points’, and so on. The rubbish bin will delete a point.\n",
    " \n",
    "If you then click anywhere in the map window you’ll be asked to enter values for the attributes that you set up when you first created the shapefile.\n",
    " \n",
    "When you are done adding airports, you simply click the ‘pencil’ button again and you will be asked to save your changes. Click ‘yes’ and your shapefile is up-to-date... and ready to read into geopandas!\n",
    "\n",
    "### Loading the new Shapefile\n",
    "Reading in the new data is as easy as fixing the missing ???. Clearly, this is going to be the path to the shapefile that you just created."
   ]
  },
  {
   "cell_type": "code",
   "execution_count": null,
   "metadata": {
    "collapsed": true
   },
   "outputs": [],
   "source": [
    "airports = gpd.GeoDataFrame.from_file(os.path.join(???))"
   ]
  },
  {
   "cell_type": "markdown",
   "metadata": {},
   "source": [
    "## Deriving geographical summary data\n",
    "\n",
    "To derive the mean distance between airports, we need to calculate the distance between each pair, but we only want to do this once for each pair so it’s a combinatorial problem. Fortunately, Python has a library to do this for us: try Googling for 'how to get unique combinations of a list in Python'... you will want to import one function from one library to make this work."
   ]
  },
  {
   "cell_type": "code",
   "execution_count": null,
   "metadata": {
    "collapsed": true
   },
   "outputs": [],
   "source": [
    "from ??? import ???"
   ]
  },
  {
   "cell_type": "markdown",
   "metadata": {},
   "source": [
    "If we want to find the distance between a pair of coordinates in geopandas then we need to loop over each pair and select them from the data frame. Given what we have in `p`, what do you think needs to replace the ??? in the calculations? "
   ]
  },
  {
   "cell_type": "code",
   "execution_count": null,
   "metadata": {
    "collapsed": true
   },
   "outputs": [],
   "source": [
    "distances = []\n",
    "\n",
    "for p in combinations(range(0, airports.shape[0]), 2):\n",
    "    # Sanity check\n",
    "    print(p)\n",
    "    # We need to see how to find the distance between points by  \n",
    "    # looking at the documentation: http://geopandas.org/user.html\n",
    "    print(airports.ix[???].geometry.distance(airports.ix[???].geometry))\n",
    "    distances.append(\n",
    "        airports.ix[???].geometry.distance(airports.ix[???].geometry)\n",
    "    )\n",
    "\n",
    "d = np.array(distances)\n",
    "print(\"The mean distance between airports in London is \" + str(d.mean()))"
   ]
  },
  {
   "cell_type": "markdown",
   "metadata": {},
   "source": [
    "*Hint*: if you are struggling with what’s happening here, why not try breaking this for loop down into something a little simpler: \n",
    "1. Print out what’s in `p`, \n",
    "2. Then try accessing the elements of `p`,\n",
    "3. Then printing out the results of the calculation before actually appending to distances.\n",
    "\n",
    "Notice what we do by converting a simple list to a `numpy` array: we become able to perform various mathematical functions on the list quickly and easily. One of those functions is to calculate the mean distance.\n",
    "\n",
    "To work out the spatial mean of London’s airports you’ll need to do some more Googling: my suggestion would be something like \"`access coordinates of point geopandas`\". The answer, in this case, is probably on github."
   ]
  },
  {
   "cell_type": "code",
   "execution_count": null,
   "metadata": {
    "collapsed": true
   },
   "outputs": [],
   "source": [
    "x = airports.geometry.apply(???)\n",
    "y = airports.geometry.apply(???)\n",
    "\n",
    "print(\"The spatial mean of London's airports is: \" + str(x.mean()) + \", \" + str(y.mean()))\n",
    "print(\"The standard deviation in each direction is: \" + str(x.std()) + \", \" + str(y.std()))\n",
    "print(\"The standard distance is: \" + ???) # Hint: this is a distance question..."
   ]
  }
 ],
 "metadata": {
  "anaconda-cloud": {},
  "kernelspec": {
   "display_name": "Python [Root]",
   "language": "python",
   "name": "Python [Root]"
  },
  "language_info": {
   "codemirror_mode": {
    "name": "ipython",
    "version": 2
   },
   "file_extension": ".py",
   "mimetype": "text/x-python",
   "name": "python",
   "nbconvert_exporter": "python",
   "pygments_lexer": "ipython2",
   "version": "2.7.12"
  }
 },
 "nbformat": 4,
 "nbformat_minor": 0
}
