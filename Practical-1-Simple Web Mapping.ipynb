{
 "cells": [
  {
   "cell_type": "markdown",
   "metadata": {},
   "source": [
    "# Creating a Simple Interactive Map"
   ]
  },
  {
   "cell_type": "markdown",
   "metadata": {},
   "source": [
    "## Simple Web Maps\n",
    "\n",
    "Simple interactive web maps in Python are often made with a library called `folium`. These are not maps in the GIS sense because they can _only_ be viewed in a web browser, and sometimes even then only after disabling safety precautions in the browser itself (see notes at the end of this notebook). But in a Jupyter notebook context, `folium` works really well because it's just embedding more web content into a running web page. Simples!\n",
    "\n",
    "As always, if you get stuck you may want to RTM: [Latest folium documentation](https://media.readthedocs.org/pdf/folium/latest/folium.pdf)."
   ]
  },
  {
   "cell_type": "markdown",
   "metadata": {},
   "source": [
    "### Getting started\n",
    "\n",
    "The mapping that we'll do this week is covered by just three libraries. But please make sure that you the latest version of folium installed (0.2.1 as of the time I'm writing this practical). If not, you'll have to go back to the video from Week 5 of Geocomp that shows you how to install libraries from the **Terminal**.\n",
    "\n",
    "Here's a hint:\n",
    "```shell\n",
    "source activate spats\n",
    "conda install folium\n",
    "```\n",
    "\n",
    "However, note that this will _not_ work 'as is' and that you'll have to work out how to install a package from a 'channel' by reading the output of each 'failed' step; it should take you three steps in all, but conda will help you with each one by providing a useful explanation of what needs doing next.\n",
    "\n",
    "When `conda` has successfully installed folium you can deactivate the `spats` environment again:\n",
    "```shell\n",
    "source deactivate spats\n",
    "```\n",
    "We can do this because we will actually be using the Kernel option in Jupyter -- note that you can click on the drop-down marked 'Kernel' and change the running kernel. This will clear all of the existing variables because it's like launching a brand new Python instance, but it also means that you can work with different 'versions' of Python (e.g. have one version that has an older library installed, or that doesn't have the spatial libraries installed...)."
   ]
  },
  {
   "cell_type": "code",
   "execution_count": null,
   "metadata": {
    "collapsed": false
   },
   "outputs": [],
   "source": [
    "import folium  \n",
    "import pandas as pd\n",
    "import os\n",
    "\n",
    "print (folium.__version__)\n",
    "\n",
    "%matplotlib inline"
   ]
  },
  {
   "cell_type": "markdown",
   "metadata": {},
   "source": [
    "### Creating a map with coordinate ‘popup’\n",
    "\n",
    "The latitude and longitude of Birmingham is (roughly): 52.4381°N and 1.8936°W. Replace the `???` below so that the map you create will be centred on Birmingham. \n",
    "\n",
    "*Hint: If you need help to figure out the format try using `help(folium.Map)` or searching online via Google.*"
   ]
  },
  {
   "cell_type": "code",
   "execution_count": null,
   "metadata": {
    "collapsed": false
   },
   "outputs": [],
   "source": [
    "MAP_COORDINATES = (52.4782, -1.8993) # ???"
   ]
  },
  {
   "cell_type": "code",
   "execution_count": null,
   "metadata": {
    "collapsed": false
   },
   "outputs": [],
   "source": [
    "m = folium.Map(location=MAP_COORDINATES, zoom_start=11) # Create the map\n",
    "m.add_children(folium.LatLngPopup()) # Add the popup functionality\n",
    "m # And now show the map"
   ]
  },
  {
   "cell_type": "markdown",
   "metadata": {},
   "source": [
    "You should see a map centred on the city of Birmingham. If you see a map centred somewhere off of the East coast of the UK then you need to think about what 1.8936°W means in terms of x and y coordinates on a graph.\n",
    "\n",
    "Try clicking somewhere on the map, what happens?\n",
    "\n",
    "Now, copying the code above into the cell below, try changing the map style to one of the other types (e.g. the 'Stamen Toner' style) and seeing what happens... You have to specify the 'tiles' type when you first create the map object. Lots of examples [here](http://folium.readthedocs.io/en/latest/quickstart.html)."
   ]
  },
  {
   "cell_type": "code",
   "execution_count": null,
   "metadata": {
    "collapsed": false
   },
   "outputs": [],
   "source": [
    "m = folium.Map(location=MAP_COORDINATES, zoom_start=11, tiles=\"Stamen Toner\") # Create the map\n",
    "m.add_children(folium.LatLngPopup()) # Add the popup functionality\n",
    "m # And now show the map"
   ]
  },
  {
   "cell_type": "markdown",
   "metadata": {},
   "source": [
    "### Adding a Marker\n",
    "\n",
    "Drag the map crated above until it is centred on Central London. Now click on the Strand Campus and make a note of the coordinates in the popup (they should be in the vicinity of 51.5º latitude and -0.1º longitude). We want to set this as the new map centre by creating a new variable containing the coordinates below:"
   ]
  },
  {
   "cell_type": "code",
   "execution_count": null,
   "metadata": {
    "collapsed": true
   },
   "outputs": [],
   "source": [
    "MAP_COORDINATES = (51.5113, -0.1160) # ???"
   ]
  },
  {
   "cell_type": "markdown",
   "metadata": {},
   "source": [
    "We want to add a marker showing where the Geography Department is on our map. We also want to try changing the zoom level so that you can see the outline of the Strand Campus and the immediate vicinity:"
   ]
  },
  {
   "cell_type": "code",
   "execution_count": null,
   "metadata": {
    "collapsed": false
   },
   "outputs": [],
   "source": [
    "m = folium.Map(location=MAP_COORDINATES, zoom_start=18) # ???\n",
    "m.add_children(folium.LatLngPopup())\n",
    "# And now add a marker\n",
    "folium.Marker(MAP_COORDINATES, # ???\n",
    "              popup='Geography'\n",
    "             ).add_to(m)\n",
    "m # Print the map"
   ]
  },
  {
   "cell_type": "markdown",
   "metadata": {},
   "source": [
    "Always remember that you can find out more about a method by typing `help(function)`. So in this case: `help(folium.Marker)`.\n",
    "\n",
    "### Adding More Markers\n",
    "\n",
    "Now add the rest of the main King’s buildings on the North side of the Thames (Virginia Woolf, Bush House, Maughan Library and Somerset House East Wing) to this map using [a few different marker styles](http://fontawesome.io/icons/)! *Note:* not all of these icons worked when I tested this, but many do.\n",
    "\n",
    "As a hint, you'll need to use the `icon` parameter in your code. To see how this works you might want to `Insert` -> `Cell Below` so that you can type `help(folium.Icon)` and view the output, and you can also look at some examples at [read the docs](http://folium.readthedocs.io/en/latest/quickstart.html).\n",
    "\n",
    "Now, can you think how you might use a `for` loop and a data structure (a list, dictionary, or hybrid like a dictionary of lists) to make the process of adding the markers less tedious?"
   ]
  },
  {
   "cell_type": "code",
   "execution_count": null,
   "metadata": {
    "collapsed": false
   },
   "outputs": [],
   "source": [
    "locs = {\n",
    "    'Strand Campus':  {'lat': 51.5113, 'lon': -0.1160, 'icon': 'plane'},\n",
    "    'Virginia Woolf': {'lat': 51.5147, 'lon': -0.1180, 'icon': 'shopping-cart'},\n",
    "    'Maughan Library': {'lat': 51.5153, 'lon': -0.1104, 'icon': 'cog'},\n",
    "    'Somerset House': {'lat': 51.5127, 'lon': -0.1172, 'icon': 'cloud'},\n",
    "    'Bush House': {'lat': 51.5112, 'lon': -0.1166, 'icon': 'info-sign'}\n",
    "}\n",
    "\n",
    "m = folium.Map(location=MAP_COORDINATES, zoom_start=15)\n",
    "\n",
    "for l, v in locs.iteritems(): # ???\n",
    "    # And now add a marker\n",
    "    folium.Marker( (v['lat'], v['lon']), icon=folium.Icon(color='green', icon=v['icon']), \n",
    "              popup=l\n",
    "             ).add_to(m)\n",
    "m # Print the map"
   ]
  },
  {
   "cell_type": "markdown",
   "metadata": {},
   "source": [
    "## Using GeoJSON files"
   ]
  },
  {
   "cell_type": "markdown",
   "metadata": {},
   "source": [
    "## Advanced: Rolling your own map…\n",
    "\n",
    "### Recommendation\n",
    "\n",
    "If there substantially less than an hour left in the practical then you might want to try these questions later at home and go back to do the ‘bonus’ questions now.\n",
    "\n",
    "### Creating other kinds of popup information\n",
    "\n",
    "Let’s get another GeoJSON file by loading the JSON file: https://raw.githubusercontent.com/datasets/geo-boundaries-world-110m/master/countries.geojson. This is available from: http://data.okfn.org/data/datasets/geo-boundaries-world-110m.\n",
    "\n",
    "Drawing on the work you did above and on the work that you did in Term 1 using JSON at the MetOffice API, how would you display a world map? Start at an appropriate zoom level, and set the options so that there is no fill colour, and the outline colour is red."
   ]
  },
  {
   "cell_type": "code",
   "execution_count": null,
   "metadata": {
    "collapsed": false
   },
   "outputs": [],
   "source": [
    "import requests\n",
    "jsonURL = 'https://raw.githubusercontent.com/datasets/geo-boundaries-world-110m/master/countries.geojson' # ???\n",
    "r = requests.get(jsonURL) # ???\n",
    "print(\"Done\")"
   ]
  },
  {
   "cell_type": "code",
   "execution_count": null,
   "metadata": {
    "collapsed": false
   },
   "outputs": [],
   "source": [
    "m = folium.Map(location=MAP_COORDINATES, zoom_start=2)\n",
    "m.choropleth (\n",
    "    geo_str=r.json(), # ???\n",
    "    fill_color=None, line_color='red', fill_opacity=0.0, line_opacity=0.25, line_weight=2)\n",
    "m # And show the map"
   ]
  },
  {
   "cell_type": "markdown",
   "metadata": {},
   "source": [
    "What fields are in the GeoJSON file? What country is this? How would you change the code below to print only it's name?"
   ]
  },
  {
   "cell_type": "code",
   "execution_count": null,
   "metadata": {
    "collapsed": false
   },
   "outputs": [],
   "source": [
    "print(r.json()['features'][0]['properties'])"
   ]
  },
  {
   "cell_type": "markdown",
   "metadata": {},
   "source": [
    "### Simple map with GeoJSON content\n",
    "\n",
    "Place the `lsoa.geojson` file available [here](https://raw.githubusercontent.com/kingsgeocomp/spatial-analysis/master/shapes/lsoa.geojson) in a directory called `shapes` wherever you are saving your Spatial Analysis notebooks (e.g. `Spats/shapes/`). If you remember how, try using the Terminal to have a quick look at the contents of this file using `less`:\n",
    "```shell\n",
    "less lsoa.geojson\n",
    "```\n",
    "What do you notice about this content? Does it remind you of a Python data structure you’ve already seen? Which one?\n",
    "\n",
    "Replace the ‘???’ in the code block below with the path to the `lsoa.geojson` file (*hint*: you will want to use `os.path.join` to pass in `shapes` (the directory) and `lsoa.geojson` (the file) that you want to read).\n",
    " \n",
    "Create the map by running the map.create_map code and then change the browser location so that you can view the new map you’ve created. \n",
    "\n",
    "Try changing the way that the LSOAs are displayed so that it looks a little more appealing.\n",
    "\n",
    "**Bonus**: if you complete the rest of the practical, why not try finding some other GeoJSON files that you can add to your map? Can you control the rendering order so that the overlays are sensible?"
   ]
  },
  {
   "cell_type": "code",
   "execution_count": null,
   "metadata": {
    "collapsed": false
   },
   "outputs": [],
   "source": [
    "m = folium.Map(location=MAP_COORDINATES, zoom_start=14)\n",
    "m.choropleth(\n",
    "    geo_str=open(os.path.join('.','shapes','lsoa.geojson')).read(), # ???\n",
    "    fill_color='blue', line_color='white', fill_opacity=0.35, line_weight=4)\n",
    "m # This may take some time to render"
   ]
  },
  {
   "cell_type": "markdown",
   "metadata": {},
   "source": [
    "### Simple choropleth map!\n",
    "\n",
    "Let's load the data that we used last term in Week 6 to create a choropleth map! Download the [Data_NSSHRP_UNIT_URESPOP.csv](https://raw.githubusercontent.com/kingsgeocomp/spatial-analysis/master/data/Data_NSSHRP_UNIT_URESPOP.csv) file and save it to a folder called `data` in the same directory as our notebooks (i.e. same place that you saved the `shapes` directory containing the LSOA file). \n",
    "\n",
    "As a reminder, this code created a pandas data frame called `df` and changed the column names to: \"CDU_ID\", \"GEO_CODE\", ..., \"NC\"."
   ]
  },
  {
   "cell_type": "code",
   "execution_count": null,
   "metadata": {
    "collapsed": false
   },
   "outputs": [],
   "source": [
    "datfile = os.path.join(\"data\",\"Data_NSSHRP_UNIT_URESPOP.csv\")\n",
    "df = pd.read_csv(\n",
    "    datfile, header=0, skiprows=[1], usecols=range(0,15))\n",
    "df.columns = [\"CDU_ID\",\"GEO_CODE\",\"GEO_LABEL\",       \n",
    "              \"GEO_TYPE\", \"GEO_TYP2\", \"Total\",        \n",
    "              \"Group1\",\"Group2\",\"Group3\",\"Group4\",    \n",
    "              \"Group5\",\"Group6\",\"Group7\",\"Group8\",\"NC\"]\n",
    "df.dropna(inplace=True)"
   ]
  },
  {
   "cell_type": "markdown",
   "metadata": {},
   "source": [
    "Reinitialise the map object – i.e. `m = folium.Map(...)`. Notice how we can keep overwriting the old map variable with a new map, but that if you don’t do this then you get a map that contains elements from the previous map that you created? This is the same as running `fig.plot()` multiple times in Term 1 without closing the old plot.\n",
    "\n",
    "Let’s try mapping NS-SeC Group 1 first... **I would _strongly_ encourage you to add comments to the code immediately below -- use the comments to help you understand what is going on!**"
   ]
  },
  {
   "cell_type": "code",
   "execution_count": null,
   "metadata": {
    "collapsed": false
   },
   "outputs": [],
   "source": [
    "m = folium.Map(location=MAP_COORDINATES, zoom_start=11)\n",
    "m.choropleth (\n",
    "    geo_str=open(os.path.join('.','shapes','lsoa.geojson')).read(),\n",
    "    data=df,\n",
    "    columns=['GEO_CODE','Group1'],\n",
    "    key_on='feature.properties.LSOA11CD',\n",
    "    threshold_scale=folium.utilities.split_six(df.Group1),\n",
    "    legend_name='Group 1 NS-SeC Total Population',\n",
    "    fill_color='BuPu', line_color='grey', fill_opacity=0.85, line_opacity=0.75, line_weight=1)\n",
    "m # This may take a while to run"
   ]
  },
  {
   "cell_type": "markdown",
   "metadata": {},
   "source": [
    "Take a look at the following:\n",
    "```python\n",
    "df[‘GEO_CODE’,’Group1’].head()\n",
    "```\n",
    "Now, try using the `Terminal` to take another look at `lsoa.geojson` using `less`.\n",
    "Can you now explain why we have the line:\n",
    "```python\n",
    "key_on = ‘feature.properties.LSOA11CD’ \n",
    "```\n",
    "in the map command?\n",
    "\n",
    "**Bonus**: if you complete the rest of the practical, why not try changing the way that the map looks (what does BuPu even mean?) to get something that you find appealing."
   ]
  },
  {
   "cell_type": "markdown",
   "metadata": {},
   "source": [
    "### Changing the scale\n",
    "\n",
    "Do you remember how to get a list of quantiles from a pandas data frame? No? Well you’ll have to go look at your old Geocomputation code I’m afraid (or use `help(df.Group1.quantile)`)! Let’s get the following quantiles: 20th, 40th, 60th, 80th, and 100th."
   ]
  },
  {
   "cell_type": "code",
   "execution_count": null,
   "metadata": {
    "collapsed": false
   },
   "outputs": [],
   "source": [
    "quantiles = df.Group1.quantile([0.2, 0.4, 0.6, 0.8, 1.0]).values # ???\n",
    "print(quantiles)"
   ]
  },
  {
   "cell_type": "markdown",
   "metadata": {},
   "source": [
    "*Hint*: for Group 1 these should be: 126, 189, 275, 402, 847. \n",
    "\n",
    "I want you to spend a few minutes thinking about the following question: how can you compare the prevalence of different socio-economic groups in London given that the scales are different for each one? The answer to this was covered in Term 1, but perhaps now the purpose of standardisation will be a little more clear..."
   ]
  },
  {
   "cell_type": "code",
   "execution_count": null,
   "metadata": {
    "collapsed": false
   },
   "outputs": [],
   "source": [
    "m = folium.Map(location=MAP_COORDINATES, zoom_start=11)\n",
    "m.choropleth (\n",
    "    geo_str=open(os.path.join('.','shapes','lsoa.geojson')).read(),\n",
    "    data=df,\n",
    "    columns=['GEO_CODE','Group1'],\n",
    "    key_on='feature.properties.LSOA11CD',\n",
    "    threshold_scale=quantiles.tolist(),\n",
    "    legend_name='Group 1 NS-SeC Total Population',\n",
    "    fill_color='BuPu', line_color='grey', fill_opacity=0.85, line_opacity=0.75, line_weight=1)\n",
    "m"
   ]
  },
  {
   "cell_type": "markdown",
   "metadata": {},
   "source": [
    "How does this map change your understanding of Group 1? Is raw number even the right scale to use?\n",
    "\n",
    "## Creating Your Own Map\n",
    "\n",
    "Using everything that we've done above, and building on what you did last year, I'd like you to prepare and show two maps:\n",
    "\n",
    "1. Percentage of residents by LSOA in Group 4\n",
    "2. Location Quotient of residents by LSOA in Group 8\n",
    "\n",
    "You will need to produce a histogram of the distributions to justify your choice of 'breaks' (i.e. quantile, standard deviation, etc.)."
   ]
  },
  {
   "cell_type": "code",
   "execution_count": null,
   "metadata": {
    "collapsed": false
   },
   "outputs": [],
   "source": [
    "# Calculate your new data series values here \n",
    "# (Remember to think about floats and ints)\n",
    "df['Group4Pct'] = df.Group4 / df.Total\n",
    "df['Group8Lq'] = (df.Group8 / df.Total) / (float(df.Group8.sum()) / df.Total.sum())"
   ]
  },
  {
   "cell_type": "code",
   "execution_count": null,
   "metadata": {
    "collapsed": false
   },
   "outputs": [],
   "source": [
    "df[ ['Group4Pct','Group8Lq'] ].describe()"
   ]
  },
  {
   "cell_type": "markdown",
   "metadata": {},
   "source": [
    "### Group 4 Share\n",
    "\n",
    "Let's start with Group 4:\n",
    "- Produce a histogram\n",
    "- Specify an appropriate classifcation\n",
    "- Join it to the LSOA GeoJSON file\n",
    "- And map!"
   ]
  },
  {
   "cell_type": "code",
   "execution_count": null,
   "metadata": {
    "collapsed": false
   },
   "outputs": [],
   "source": [
    "# Output your histogram for Group 4 share here\n",
    "df.Group4Pct.plot.hist()"
   ]
  },
  {
   "cell_type": "code",
   "execution_count": null,
   "metadata": {
    "collapsed": false
   },
   "outputs": [],
   "source": [
    "# Create your breaks here\n",
    "mu = df.Group4Pct.mean()\n",
    "sd = df.Group4Pct.std()\n",
    "breaks = []\n",
    "\n",
    "for i in xrange(-2,3):\n",
    "    breaks.append(mu + i * sd)\n",
    "\n",
    "breaks.append(df.Group4Pct.max())\n",
    "print(breaks)"
   ]
  },
  {
   "cell_type": "code",
   "execution_count": null,
   "metadata": {
    "collapsed": false
   },
   "outputs": [],
   "source": [
    "# Create your map here\n",
    "m = folium.Map(location=MAP_COORDINATES, zoom_start=10)\n",
    "m.choropleth (\n",
    "    geo_str=open(os.path.join('.','shapes','lsoa.geojson')).read(),\n",
    "    data=df,\n",
    "    columns=['GEO_CODE','Group4Pct'],\n",
    "    key_on='feature.properties.LSOA11CD',\n",
    "    threshold_scale=breaks,\n",
    "    legend_name='Group 4 Share (Std. Dev. from the mean ' + str(mu) + ')',\n",
    "    fill_color='BuPu', line_color='grey', line_weight=1)\n",
    "m"
   ]
  },
  {
   "cell_type": "code",
   "execution_count": null,
   "metadata": {
    "collapsed": false
   },
   "outputs": [],
   "source": [
    "# Output your Group 8 LQ histogram here\n",
    "df.Group8Lq.plot.hist()"
   ]
  },
  {
   "cell_type": "code",
   "execution_count": null,
   "metadata": {
    "collapsed": false
   },
   "outputs": [],
   "source": [
    "# Create your Group 8 LQ breaks here\n",
    "breaks = df.Group8Lq.quantile([0.2, 0.4, 0.6, 0.8, 1.0]).values.tolist()\n",
    "print(breaks)"
   ]
  },
  {
   "cell_type": "code",
   "execution_count": null,
   "metadata": {
    "collapsed": false
   },
   "outputs": [],
   "source": [
    "# Create your map here\n",
    "m = folium.Map(location=MAP_COORDINATES, zoom_start=10)\n",
    "m.choropleth (\n",
    "    geo_str=open(os.path.join('.','shapes','lsoa.geojson')).read(),\n",
    "    data=df,\n",
    "    columns=['GEO_CODE','Group8Lq'],\n",
    "    key_on='feature.properties.LSOA11CD',\n",
    "    threshold_scale=breaks,\n",
    "    legend_name='Group 8 LQ',\n",
    "    fill_color='BuPu', line_color='grey', fill_opacity=1.0, line_weight=1)\n",
    "m"
   ]
  },
  {
   "cell_type": "markdown",
   "metadata": {},
   "source": [
    "## Testing Your Understanding\n",
    "\n",
    "Let’s see how well you've understood everything so far... we've already seen how to show a world map _and_ we've also looked at how to display data by linking a GeoJSON file to some data. So, if we now grab population data for world countries as a CSV file from: http://data.worldbank.org/indicator/SP.POP.TOTL can you turn the world map into a choropleth? \n",
    "\n",
    "_Note:_ you will need to ensure that the `API_SP.POP.TOTL_DS2_en_csv_v2.csv` file is in your Spatial Analysis `data` folder.\n",
    "\n",
    "_Objective:_ drawing on the code that you used to show the LSOA data as a choropleth, how would you link the population data to the GeoJSON file?"
   ]
  },
  {
   "cell_type": "code",
   "execution_count": null,
   "metadata": {
    "collapsed": true
   },
   "outputs": [],
   "source": [
    "\n",
    "\n",
    "\n",
    "\n",
    "\n",
    "\n",
    "\n",
    "\n",
    "\n",
    "\n"
   ]
  },
  {
   "cell_type": "markdown",
   "metadata": {},
   "source": [
    "### Viewing the Output _Outside_ of a Notebook\n",
    "\n",
    "Note that for the interactive maps to work properly outside of the Jupyter Notebook environment you _may_ need to launch Google Chrome from the terminal using the following command:\n",
    "* Linux Terminal: `google-chrome --disable-web-security`\n",
    "* Windows: `start chrome --disable-web-security`\n",
    "* Mac: `open /Applications/Google\\ Chrome.app --args --disable-web-security`\n",
    "This is needed to get around a security restriction (normally a good thing) in Google Chrome to do with loading content from `file://...`"
   ]
  }
 ],
 "metadata": {
  "anaconda-cloud": {},
  "kernelspec": {
   "display_name": "Python [spats]",
   "language": "python",
   "name": "Python [spats]"
  },
  "language_info": {
   "codemirror_mode": {
    "name": "ipython",
    "version": 2
   },
   "file_extension": ".py",
   "mimetype": "text/x-python",
   "name": "python",
   "nbconvert_exporter": "python",
   "pygments_lexer": "ipython2",
   "version": "2.7.12"
  }
 },
 "nbformat": 4,
 "nbformat_minor": 0
}
