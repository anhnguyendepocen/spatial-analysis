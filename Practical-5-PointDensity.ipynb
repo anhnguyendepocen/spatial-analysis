{
 "cells": [
  {
   "cell_type": "markdown",
   "metadata": {},
   "source": [
    "# Practical 5 Point Density Functions: k-functions and Nearest Neighbors in PySAL"
   ]
  },
  {
   "cell_type": "markdown",
   "metadata": {},
   "source": [
    "## Task 1: k-nearest neighbor weights\n",
    "\n",
    "The neighbors for a given observations can be defined using a k-nearest neighbor criterion. For example we could use the the centroids of our 5x5 lattice as point locations to measure the distances. "
   ]
  },
  {
   "cell_type": "markdown",
   "metadata": {},
   "source": [
    "First, we import numpy to create the coordinates as a 25x2 numpy array named data:"
   ]
  },
  {
   "cell_type": "code",
   "execution_count": null,
   "metadata": {
    "collapsed": false
   },
   "outputs": [],
   "source": [
    "import numpy as np\n",
    "x,y=np.indices((5,5))\n",
    "x.shape=(25,1)\n",
    "y.shape=(25,1)\n",
    "data=np.hstack([x,y])"
   ]
  },
  {
   "cell_type": "markdown",
   "metadata": {},
   "source": [
    "then define the KNN weight as:"
   ]
  },
  {
   "cell_type": "code",
   "execution_count": null,
   "metadata": {
    "collapsed": true
   },
   "outputs": [],
   "source": [
    "wknn3 = pysal.weights.KNN(data, k = 3)\n",
    "wknn3.neighbors[0]\n",
    "\n",
    ">>> [1, 5, 6]\n",
    "\n",
    "wknn3.s0\n",
    "\n",
    ">>> 75.0\n"
   ]
  },
  {
   "cell_type": "markdown",
   "metadata": {},
   "source": [
    "For efficiency, a KDTree is constructed to compute efficient nearest neighbor queries. To construct many K-Nearest neighbor weights from the same data, a convenience method is provided that prevents re-constructing the KDTree while letting the user change aspects of the weight object. By default, the reweight method operates in place:"
   ]
  },
  {
   "cell_type": "code",
   "execution_count": null,
   "metadata": {
    "collapsed": true
   },
   "outputs": [],
   "source": [
    "w4 = wknn3.reweight(k=4, inplace=False)\n",
    "w4.neighbors[0]\n",
    "\n",
    ">>> [1,5,6,2]\n",
    "\n",
    "l1norm = wknn3.reweight(p=1, inplace=False)\n",
    "l1norm.neighbors\n",
    "\n",
    ">>> [1,5,2]\n",
    "\n",
    "set(w4.neighbors[0]) == set([1, 5, 6, 2])\n",
    "\n",
    ">>> True\n",
    "\n",
    "w4.s0\n",
    "\n",
    ">>> 100.0\n",
    "\n",
    "w4.weights[0]\n",
    "\n",
    ">>> [1.0, 1.0, 1.0, 1.0]"
   ]
  },
  {
   "cell_type": "markdown",
   "metadata": {},
   "source": [
    "Alternatively, we can use a utility function to build a knn W straight from a shapefile:"
   ]
  },
  {
   "cell_type": "code",
   "execution_count": null,
   "metadata": {
    "collapsed": true
   },
   "outputs": [],
   "source": [
    "wknn5 = pysal.weights.KNN.from_shapefile(pysal.examples.get_path('columbus.shp'), k=5)\n",
    "wknn5.neighbors[0]\n",
    "\n",
    ">>> [2, 1, 3, 7, 4]"
   ]
  },
  {
   "cell_type": "markdown",
   "metadata": {},
   "source": [
    "Or from a dataframe:"
   ]
  },
  {
   "cell_type": "code",
   "execution_count": null,
   "metadata": {
    "collapsed": true
   },
   "outputs": [],
   "source": [
    "import geopandas as gpd\n",
    "df = gpd.read_file(ps.examples.get_path('baltim.shp'))\n",
    "k5 = pysal.weights.KNN.from_dataframe(df, k=5)"
   ]
  },
  {
   "cell_type": "markdown",
   "metadata": {},
   "source": [
    "## Task 2: Distance band weights\n",
    "\n",
    "Knn weights ensure that all observations have the same number of neighbors. [3] An alternative distance based set of weights relies on distance bands or thresholds to define the neighbor set for each spatial unit as those other units falling within a threshold distance of the focal unit:"
   ]
  },
  {
   "cell_type": "code",
   "execution_count": null,
   "metadata": {
    "collapsed": true
   },
   "outputs": [],
   "source": [
    "wthresh = pysal.weights.DistanceBand.from_array(data, 2)\n",
    "set(wthresh.neighbors[0]) == set([1, 2, 5, 6, 10])\n",
    "\n",
    ">>> True\n",
    "\n",
    "set(wthresh.neighbors[1]) == set( [0, 2, 5, 6, 7, 11, 3])\n",
    "\n",
    ">>> True\n",
    "\n",
    "wthresh.weights[0]\n",
    "\n",
    ">>> [1, 1, 1, 1, 1]\n",
    "\n",
    "wthresh.weights[1]\n",
    "\n",
    ">>> [1, 1, 1, 1, 1, 1, 1]\n"
   ]
  },
  {
   "cell_type": "markdown",
   "metadata": {},
   "source": [
    "As can be seen in the above example, the number of neighbors is likely to vary across observations with distance band weights in contrast to what holds for knn weights.\n",
    "\n",
    "In addition to constructing these from the helper function, Distance Band weights. For example, a threshold binary W can be constructed from a dataframe:"
   ]
  },
  {
   "cell_type": "code",
   "execution_count": null,
   "metadata": {
    "collapsed": true
   },
   "outputs": [],
   "source": [
    "import geopandas as gpd\n",
    "df = gpd.read_file(ps.examples.get_path('baltim.shp'))\n",
    "ps.weights.DistanceBand.from_dataframe(df, threshold=6, binary=True)"
   ]
  },
  {
   "cell_type": "markdown",
   "metadata": {
    "collapsed": true
   },
   "source": [
    "Distance band weights can be generated for shapefiles as well as arrays of points. [4] First, the minimum nearest neighbor distance should be determined so that each unit is assured of at least one neighbor:"
   ]
  },
  {
   "cell_type": "code",
   "execution_count": null,
   "metadata": {
    "collapsed": true
   },
   "outputs": [],
   "source": [
    "thresh = pysal.min_threshold_dist_from_shapefile(\"../pysal/examples/columbus.shp\")\n",
    "thresh\n",
    "\n",
    ">>> 0.61886415807685413"
   ]
  },
  {
   "cell_type": "markdown",
   "metadata": {},
   "source": [
    "with this threshold in hand, the distance band weights are obtained as:"
   ]
  },
  {
   "cell_type": "code",
   "execution_count": null,
   "metadata": {
    "collapsed": true
   },
   "outputs": [],
   "source": [
    "wt = pysal.weights.DistanceBand.from_shapefile(\"../pysal/examples/columbus.shp\", threshold=thresh, binary=True)\n",
    "wt.min_neighbors\n",
    "\n",
    ">>> 1\n",
    "\n",
    "wt.histogram\n",
    "\n",
    ">>> [(1, 4), (2, 8), (3, 6), (4, 2), (5, 5), (6, 8), (7, 6), (8, 2), (9, 6), (10, 1), (11, 1)]\n",
    "\n",
    "set(wt.neighbors[0]) == set([1,2])\n",
    "\n",
    ">>> True\n",
    "\n",
    "set(wt.neighbors[1]) == set([3,0])\n",
    "\n",
    ">>> True"
   ]
  },
  {
   "cell_type": "markdown",
   "metadata": {},
   "source": [
    "Distance band weights can also be specified to take on continuous values rather than binary, with the values set to the inverse distance separating each pair within a given threshold distance. We illustrate this with a small set of 6 points:"
   ]
  },
  {
   "cell_type": "code",
   "execution_count": null,
   "metadata": {
    "collapsed": true
   },
   "outputs": [],
   "source": [
    "points = [(10, 10), (20, 10), (40, 10), (15, 20), (30, 20), (30, 30)]\n",
    "wid = pysal.weights.DistanceBand.from_array(points,14.2,binary=False)\n",
    "wid.weights[0]\n",
    "\n",
    ">>> [0.10000000000000001, 0.089442719099991588]"
   ]
  },
  {
   "cell_type": "markdown",
   "metadata": {},
   "source": [
    "If we change the distance decay exponent to -2.0 the result is so called gravity weights:"
   ]
  },
  {
   "cell_type": "code",
   "execution_count": null,
   "metadata": {
    "collapsed": true
   },
   "outputs": [],
   "source": [
    "wid2 = pysal.weights.DistanceBand.from_array(points,14.2,alpha = -2.0, binary=False)\n",
    "wid2.weights[0]\n",
    "\n",
    ">>> [0.01, 0.0079999999999999984]"
   ]
  },
  {
   "cell_type": "markdown",
   "metadata": {},
   "source": [
    "## TASK 3: Kernel Weights\n",
    "\n",
    "A combination of distance based thresholds together with continuously valued weights is supported through kernel weights:"
   ]
  },
  {
   "cell_type": "code",
   "execution_count": null,
   "metadata": {
    "collapsed": true
   },
   "outputs": [],
   "source": [
    "points = [(10, 10), (20, 10), (40, 10), (15, 20), (30, 20), (30, 30)]\n",
    "kw = pysal.Kernel(points)\n",
    "kw.weights[0]\n",
    "\n",
    ">>> [1.0, 0.500000049999995, 0.4409830615267465]\n",
    "\n",
    "kw.neighbors[0]\n",
    "\n",
    ">>> [0, 1, 3]\n",
    "\n",
    "kw.bandwidth\n",
    "\n",
    ">>> array([[ 20.000002],\n",
    ">>>        [ 20.000002],\n",
    ">>>        [ 20.000002],\n",
    ">>>        [ 20.000002],\n",
    ">>>        [ 20.000002],\n",
    ">>>        [ 20.000002]])"
   ]
  },
  {
   "cell_type": "markdown",
   "metadata": {},
   "source": [
    "The bandwidth attribute plays the role of the distance threshold with kernel weights, while the form of the kernel function determines the distance decay in the derived continuous weights (the following are available: ‘triangular’,’uniform’,’quadratic’,’epanechnikov’,’quartic’,’bisquare’,’gaussian’). In the above example, the bandwidth is set to the default value and fixed across the observations. The user could specify a different value for a fixed bandwidth:"
   ]
  },
  {
   "cell_type": "code",
   "execution_count": null,
   "metadata": {
    "collapsed": true
   },
   "outputs": [],
   "source": [
    "kw15 = pysal.Kernel(points,bandwidth = 15.0)\n",
    "kw15[0]\n",
    "\n",
    ">>> {0: 1.0, 1: 0.33333333333333337, 3: 0.2546440075000701}\n",
    "\n",
    "kw15.neighbors[0]\n",
    "\n",
    ">>> [0, 1, 3]\n",
    "\n",
    "kw15.bandwidth\n",
    "\n",
    ">>> array([[ 15.],\n",
    ">>>        [ 15.],\n",
    ">>>        [ 15.],\n",
    ">>>        [ 15.],\n",
    ">>>        [ 15.],\n",
    ">>>        [ 15.]])"
   ]
  },
  {
   "cell_type": "markdown",
   "metadata": {},
   "source": [
    "which results in fewer neighbors for the first unit. Adaptive bandwidths (i.e., different bandwidths for each unit) can also be user specified:"
   ]
  },
  {
   "cell_type": "code",
   "execution_count": null,
   "metadata": {
    "collapsed": true
   },
   "outputs": [],
   "source": [
    "bw = [25.0,15.0,25.0,16.0,14.5,25.0]\n",
    "kwa = pysal.Kernel(points,bandwidth = bw)\n",
    "kwa.weights[0]\n",
    "\n",
    ">>> [1.0, 0.6, 0.552786404500042, 0.10557280900008403]\n",
    "\n",
    "kwa.neighbors[0]\n",
    "\n",
    ">>> [0, 1, 3, 4]\n",
    "\n",
    "kwa.bandwidth\n",
    ">>> array([[ 25. ],\n",
    ">>>        [ 15. ],\n",
    ">>>        [ 25. ],\n",
    ">>>        [ 16. ],\n",
    ">>>        [ 14.5],\n",
    ">>>        [ 25. ]])"
   ]
  },
  {
   "cell_type": "markdown",
   "metadata": {},
   "source": [
    "Alternatively the adaptive bandwidths could be defined endogenously:"
   ]
  },
  {
   "cell_type": "code",
   "execution_count": null,
   "metadata": {
    "collapsed": true
   },
   "outputs": [],
   "source": [
    "kwea = pysal.Kernel(points,fixed = False)\n",
    "kwea.weights[0]\n",
    "\n",
    ">>> [1.0, 0.10557289844279438, 9.99999900663795e-08]\n",
    "\n",
    "kwea.neighbors[0]\n",
    "\n",
    ">>> [0, 1, 3]\n",
    "\n",
    "kwea.bandwidth\n",
    "\n",
    ">>> array([[ 11.18034101],\n",
    ">>>        [ 11.18034101],\n",
    ">>>        [ 20.000002  ],\n",
    ">>>        [ 11.18034101],\n",
    ">>>        [ 14.14213704],\n",
    ">>>        [ 18.02775818]])"
   ]
  },
  {
   "cell_type": "markdown",
   "metadata": {},
   "source": [
    "Finally, the kernel function could be changed (with endogenous adaptive bandwidths):"
   ]
  },
  {
   "cell_type": "code",
   "execution_count": null,
   "metadata": {
    "collapsed": true
   },
   "outputs": [],
   "source": [
    "kweag = pysal.Kernel(points,fixed = False,function = 'gaussian')\n",
    "kweag.weights[0]\n",
    "\n",
    ">>> [0.3989422804014327, 0.2674190291577696, 0.2419707487162134]\n",
    "\n",
    "kweag.bandwidth\n",
    "\n",
    ">>> array([[ 11.18034101],\n",
    ">>>        [ 11.18034101],\n",
    ">>>        [ 20.000002  ],\n",
    ">>>        [ 11.18034101],\n",
    ">>>        [ 14.14213704],\n",
    ">>>        [ 18.02775818]])"
   ]
  },
  {
   "cell_type": "markdown",
   "metadata": {},
   "source": [
    "More details on kernel weights can be found in Kernel (http://pysal.readthedocs.io/en/latest/library/weights/Distance.html#pysal.weights.Distance.Kernel).\n",
    "\n",
    "All kernel methods also support construction from shapefiles with Kernel.from_shapefile and from dataframes with Kernel.from_dataframe."
   ]
  },
  {
   "cell_type": "markdown",
   "metadata": {},
   "source": [
    "\n",
    "* Please refer to http://pysal.readthedocs.io/en/latest/users/tutorials/weights.html#k-nearest-neighbor-weights for further study on the nearest neighbor and kernel weights in PySAL for analysing Point Patterns."
   ]
  }
 ],
 "metadata": {
  "anaconda-cloud": {},
  "kernelspec": {
   "display_name": "Python [spats]",
   "language": "python",
   "name": "Python [spats]"
  },
  "language_info": {
   "codemirror_mode": {
    "name": "ipython",
    "version": 2
   },
   "file_extension": ".py",
   "mimetype": "text/x-python",
   "name": "python",
   "nbconvert_exporter": "python",
   "pygments_lexer": "ipython2",
   "version": "2.7.12"
  }
 },
 "nbformat": 4,
 "nbformat_minor": 0
}
